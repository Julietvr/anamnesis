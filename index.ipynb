{
 "cells": [
  {
   "cell_type": "markdown",
   "metadata": {},
   "source": [
    "Dit is een tekstcel. Tekst hierin wordt geformatteerd met [markdown](https://www.markdownguide.org/cheat-sheet/), die het mogelijk maakt om tekst op een simpele manier op te maken. Door de toevoeging van tekens in de brontekst, die aangepast kan worden door dubbel te klikken op de cel, kan tekst bijvoorbeeld in **bold** of *italic* worden gezet. Markdown is een *markuptaal*, net als bijvoorbeeld HTML. Het is een formele taal die een bepaalde representatie mogelijk maakt na evaluatie, maar het is niet mogelijk om er berekeningen mee uit te voeren. Zo wordt `1 + 1` uitgevoerd als tekst. Enkel de opmaak is aangepast om aan te tonen dat het aan code refereert. De uitvoering van de cel wordt in gang gezet met het driehoekig start-icoon in de bewerkingsbalk.\n",
    "\n",
    "\n",
    "De volgende cel is een Python cel. Daarin wordt `1 + 1` wel geevalueerd bij uitvoering."
   ]
  },
  {
   "cell_type": "code",
   "execution_count": 1,
   "metadata": {},
   "outputs": [
    {
     "data": {
      "text/plain": [
       "2"
      ]
     },
     "execution_count": 1,
     "metadata": {},
     "output_type": "execute_result"
    }
   ],
   "source": [
    "1 + 1"
   ]
  },
  {
   "cell_type": "code",
   "execution_count": 1,
   "metadata": {},
   "outputs": [
    {
     "name": "stdout",
     "output_type": "stream",
     "text": [
      "hello world\n"
     ]
    }
   ],
   "source": [
    "print(\"hello world\")"
   ]
  },
  {
   "cell_type": "code",
   "execution_count": 3,
   "metadata": {},
   "outputs": [
    {
     "name": "stdout",
     "output_type": "stream",
     "text": [
      "2\n"
     ]
    }
   ],
   "source": [
    "print(1+1)"
   ]
  }
 ],
 "metadata": {
  "interpreter": {
   "hash": "bbdfb9ae4c2026b0f0a686483769e2bb6ea0cfd74cebe8d221e0639b34b91ff1"
  },
  "kernelspec": {
   "display_name": "Python 3.8.8 ('venv': venv)",
   "language": "python",
   "name": "python3"
  },
  "language_info": {
   "codemirror_mode": {
    "name": "ipython",
    "version": 3
   },
   "file_extension": ".py",
   "mimetype": "text/x-python",
   "name": "python",
   "nbconvert_exporter": "python",
   "pygments_lexer": "ipython3",
   "version": "3.8.8"
  },
  "orig_nbformat": 4
 },
 "nbformat": 4,
 "nbformat_minor": 2
}
