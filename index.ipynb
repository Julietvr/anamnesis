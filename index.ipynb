{
 "cells": [
  {
   "cell_type": "markdown",
   "metadata": {},
   "source": [
    "### Notebook demo"
   ]
  },
  {
   "cell_type": "markdown",
   "metadata": {},
   "source": [
    "In dit notebook wordt ter ondersteuning van paragraaf 2.2 enkele basisfunctionaliteiten gedemonstreerd. De bedoeling hiervan is om de lezer de kans te geven om met het notebook kennis te maken. Het notebook is online gehost op een website die in alle functionele vereisten voorziet om het notebook te kunnen lezen en uitvoeren, zonder dat de lezer daar nog zaken voor zou moeten downloaden of installeren. Het laden van deze website kan even duren. De lezer wordt aangemoedigd (maar niet verplicht!) om met de interface te experimenteren. Wijzigingen die eventueel worden aangebracht, worden niet in het oorspronkelijk bestand opgeslagen."
   ]
  },
  {
   "cell_type": "markdown",
   "metadata": {},
   "source": [
    "#### Interface"
   ]
  },
  {
   "cell_type": "markdown",
   "metadata": {},
   "source": [
    "Het notebook bestaat uit cellen, modulaire blokken die ofwel gewone tekst ofwel code kunnen bevatten. Deze tekst staat in een tekstcel. Door dubbel op de tekstcel te klikken, kan de tekst bewerkt worden. Door vervolgens op het driehoekje in de taakbalk te klikken, komt de tekst terug in leesmodus."
   ]
  },
  {
   "cell_type": "code",
   "execution_count": 1,
   "metadata": {},
   "outputs": [
    {
     "name": "stdout",
     "output_type": "stream",
     "text": [
      "Hello, World!\n"
     ]
    }
   ],
   "source": [
    "# Deze tekst staat in een codecel. Codecellen kunnen worden uitgevoerd door de computer, eveneens door op het driehoekje in de taakbalk te klikken.\n",
    "# Deze tekst staat echter achter een hashtag, wat maakt dat de computer deze tekst niet evalueert. Dit wordt gebruikt om code van commentaar te voorzien.\n",
    "# De volgende lijn tekst is geen comment, en zal de computer dus uitvoeren. Het resultaat daarvan wordt direct onder de cel afgedrukt.\n",
    "print(\"Hello, World!\")"
   ]
  },
  {
   "cell_type": "markdown",
   "metadata": {},
   "source": [
    "Tekst in de tekstcellen worden op een heel simpele manier geformatteerd met [markdown](https://www.markdownguide.org/cheat-sheet/). Zo kunnen woorden in **bold** of in *italic* worden gezet."
   ]
  },
  {
   "cell_type": "markdown",
   "metadata": {},
   "source": [
    "Nieuwe cellen kunnen worden toegevoegd met het plusje in de taakbalk. Met een dropdown menu verderop in de taakbalk kan gekozen worden of de cell code moet bevatten of tekst (markdown). Verder bevat de taakbalk onder andere functies om cellen te verwijderen, alle codecellen opnieuw uit te voeren, of het notebook te downloaden."
   ]
  },
  {
   "cell_type": "markdown",
   "metadata": {},
   "source": [
    "#### Python"
   ]
  },
  {
   "cell_type": "code",
   "execution_count": 2,
   "metadata": {},
   "outputs": [
    {
     "data": {
      "text/plain": [
       "3"
      ]
     },
     "execution_count": 2,
     "metadata": {},
     "output_type": "execute_result"
    }
   ],
   "source": [
    "# Twee getallen worden opgeteld\n",
    "1 + 2"
   ]
  },
  {
   "cell_type": "code",
   "execution_count": 3,
   "metadata": {},
   "outputs": [],
   "source": [
    "# Twee variabelen worden bepaald die elk een getal bevatten\n",
    "a = 1\n",
    "b = 2"
   ]
  },
  {
   "cell_type": "code",
   "execution_count": 4,
   "metadata": {},
   "outputs": [
    {
     "name": "stdout",
     "output_type": "stream",
     "text": [
      "1\n",
      "2\n"
     ]
    }
   ],
   "source": [
    "# De waardes van de variabelen kunenn worden opgehaald\n",
    "print(a)\n",
    "print(b)"
   ]
  },
  {
   "cell_type": "code",
   "execution_count": 5,
   "metadata": {},
   "outputs": [
    {
     "data": {
      "text/plain": [
       "3"
      ]
     },
     "execution_count": 5,
     "metadata": {},
     "output_type": "execute_result"
    }
   ],
   "source": [
    "# Nu worden de variabelen gebruikt om de som te maken\n",
    "a + b"
   ]
  },
  {
   "cell_type": "code",
   "execution_count": 6,
   "metadata": {},
   "outputs": [],
   "source": [
    "# Het optellen kan ook in een functie worden gedefineerd\n",
    "# Alles wat onder de naam van de functie komt, wordt geindenteerd\n",
    "\n",
    "def sum_two_numbers(first_variable, second_variable):\n",
    "    result = first_variable + second_variable\n",
    "    return result"
   ]
  },
  {
   "cell_type": "code",
   "execution_count": 7,
   "metadata": {},
   "outputs": [
    {
     "data": {
      "text/plain": [
       "7"
      ]
     },
     "execution_count": 7,
     "metadata": {},
     "output_type": "execute_result"
    }
   ],
   "source": [
    "# Een functie wordt pas uitgevoerd als die wordt aangeroepen\n",
    "# Daarvoor wordt de functienaam aangeroepen met de gewenste waardes\n",
    "\n",
    "sum_two_numbers(3, 4)"
   ]
  },
  {
   "cell_type": "code",
   "execution_count": 8,
   "metadata": {},
   "outputs": [
    {
     "data": {
      "text/plain": [
       "3"
      ]
     },
     "execution_count": 8,
     "metadata": {},
     "output_type": "execute_result"
    }
   ],
   "source": [
    "# In de plaats van getallen kunnen ook de variabelen die eerder werden gedefinieerd worden doorgegeven\n",
    "\n",
    "sum_two_numbers(a, b)"
   ]
  },
  {
   "cell_type": "code",
   "execution_count": 9,
   "metadata": {},
   "outputs": [
    {
     "data": {
      "text/plain": [
       "7"
      ]
     },
     "execution_count": 9,
     "metadata": {},
     "output_type": "execute_result"
    }
   ],
   "source": [
    "# De variabelen kunnen worden overschreven\n",
    "a = 3\n",
    "b = 4\n",
    "\n",
    "sum_two_numbers(a, b)"
   ]
  },
  {
   "cell_type": "code",
   "execution_count": 10,
   "metadata": {},
   "outputs": [
    {
     "name": "stdout",
     "output_type": "stream",
     "text": [
      "hello world\n"
     ]
    }
   ],
   "source": [
    "# Ook kan een variabele ander soort data bevatten, bijvoorbeeld tekst\n",
    "a = 'hello'\n",
    "b = 'world'\n",
    "\n",
    "print(a, b)"
   ]
  },
  {
   "cell_type": "code",
   "execution_count": 11,
   "metadata": {},
   "outputs": [
    {
     "data": {
      "text/plain": [
       "'helloworld'"
      ]
     },
     "execution_count": 11,
     "metadata": {},
     "output_type": "execute_result"
    }
   ],
   "source": [
    "# Dit type data wordt anders geevalueerd door de computer dan nummerieke data\n",
    "# Zo geeft de optelfunctie een ander resultaat\n",
    "# Hierin worden de twee stukken tekst achter elkaar geplakt\n",
    "\n",
    "sum_two_numbers(a, b)"
   ]
  },
  {
   "cell_type": "code",
   "execution_count": 12,
   "metadata": {},
   "outputs": [
    {
     "ename": "TypeError",
     "evalue": "unsupported operand type(s) for /: 'str' and 'str'",
     "output_type": "error",
     "traceback": [
      "\u001b[0;31m---------------------------------------------------------------------------\u001b[0m",
      "\u001b[0;31mTypeError\u001b[0m                                 Traceback (most recent call last)",
      "\u001b[1;32m/Users/juliet/Documents/ugent/2021-2022/thesis/code/anamnesis/index.ipynb Cell 19'\u001b[0m in \u001b[0;36m<cell line: 4>\u001b[0;34m()\u001b[0m\n\u001b[1;32m      <a href='vscode-notebook-cell:/Users/juliet/Documents/ugent/2021-2022/thesis/code/anamnesis/index.ipynb#ch0000031?line=0'>1</a>\u001b[0m \u001b[39m# Andere operaties zijn echter niet mogelijk op tekstdata\u001b[39;00m\n\u001b[1;32m      <a href='vscode-notebook-cell:/Users/juliet/Documents/ugent/2021-2022/thesis/code/anamnesis/index.ipynb#ch0000031?line=1'>2</a>\u001b[0m \u001b[39m# Delen door resulteert bijvoorbeeld in een error\u001b[39;00m\n\u001b[0;32m----> <a href='vscode-notebook-cell:/Users/juliet/Documents/ugent/2021-2022/thesis/code/anamnesis/index.ipynb#ch0000031?line=3'>4</a>\u001b[0m a \u001b[39m/\u001b[39;49m b\n",
      "\u001b[0;31mTypeError\u001b[0m: unsupported operand type(s) for /: 'str' and 'str'"
     ]
    }
   ],
   "source": [
    "# Andere operaties zijn echter niet mogelijk op tekstdata\n",
    "# Delen door resulteert bijvoorbeeld in een error\n",
    "\n",
    "a / b"
   ]
  },
  {
   "cell_type": "code",
   "execution_count": 13,
   "metadata": {},
   "outputs": [
    {
     "data": {
      "text/plain": [
       "2.0"
      ]
     },
     "execution_count": 13,
     "metadata": {},
     "output_type": "execute_result"
    }
   ],
   "source": [
    "# Met nummerieke variabelen kan dit natuurlijk wel\n",
    "\n",
    "a = 4\n",
    "b = 2\n",
    "a / b"
   ]
  }
 ],
 "metadata": {
  "interpreter": {
   "hash": "bbdfb9ae4c2026b0f0a686483769e2bb6ea0cfd74cebe8d221e0639b34b91ff1"
  },
  "kernelspec": {
   "display_name": "Python 3.8.8 ('venv': venv)",
   "language": "python",
   "name": "python3"
  },
  "language_info": {
   "codemirror_mode": {
    "name": "ipython",
    "version": 3
   },
   "file_extension": ".py",
   "mimetype": "text/x-python",
   "name": "python",
   "nbconvert_exporter": "python",
   "pygments_lexer": "ipython3",
   "version": "3.8.8"
  },
  "orig_nbformat": 4
 },
 "nbformat": 4,
 "nbformat_minor": 2
}
